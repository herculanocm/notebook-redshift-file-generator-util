{
 "cells": [
  {
   "cell_type": "markdown",
   "id": "2e3eba82-9309-49e1-a8bb-40d44769ace8",
   "metadata": {},
   "source": [
    "### First install the dependency"
   ]
  },
  {
   "cell_type": "code",
   "execution_count": 6,
   "id": "f0ee0daf-2ef3-4141-b432-ada67bf177ff",
   "metadata": {
    "scrolled": true
   },
   "outputs": [
    {
     "name": "stdout",
     "output_type": "stream",
     "text": [
      "Collecting redshift-connector\n",
      "  Downloading redshift_connector-2.1.3-py3-none-any.whl.metadata (69 kB)\n",
      "\u001b[2K     \u001b[90m━━━━━━━━━━━━━━━━━━━━━━━━━━━━━━━━━━━━━━━━\u001b[0m \u001b[32m69.7/69.7 kB\u001b[0m \u001b[31m2.3 MB/s\u001b[0m eta \u001b[36m0:00:00\u001b[0m\n",
      "\u001b[?25hCollecting scramp<1.5.0,>=1.2.0 (from redshift-connector)\n",
      "  Downloading scramp-1.4.5-py3-none-any.whl.metadata (19 kB)\n",
      "Requirement already satisfied: pytz>=2020.1 in /opt/conda/lib/python3.11/site-packages (from redshift-connector) (2023.3.post1)\n",
      "Requirement already satisfied: beautifulsoup4<5.0.0,>=4.7.0 in /opt/conda/lib/python3.11/site-packages (from redshift-connector) (4.12.2)\n",
      "Collecting boto3<2.0.0,>=1.9.201 (from redshift-connector)\n",
      "  Downloading boto3-1.35.39-py3-none-any.whl.metadata (6.7 kB)\n",
      "Requirement already satisfied: requests<3.0.0,>=2.23.0 in /opt/conda/lib/python3.11/site-packages (from redshift-connector) (2.31.0)\n",
      "Collecting lxml>=4.6.5 (from redshift-connector)\n",
      "  Downloading lxml-5.3.0-cp311-cp311-manylinux_2_28_x86_64.whl.metadata (3.8 kB)\n",
      "Collecting botocore<2.0.0,>=1.12.201 (from redshift-connector)\n",
      "  Downloading botocore-1.35.39-py3-none-any.whl.metadata (5.7 kB)\n",
      "Requirement already satisfied: packaging in /opt/conda/lib/python3.11/site-packages (from redshift-connector) (23.2)\n",
      "Requirement already satisfied: setuptools in /opt/conda/lib/python3.11/site-packages (from redshift-connector) (68.2.2)\n",
      "Requirement already satisfied: soupsieve>1.2 in /opt/conda/lib/python3.11/site-packages (from beautifulsoup4<5.0.0,>=4.7.0->redshift-connector) (2.5)\n",
      "Collecting jmespath<2.0.0,>=0.7.1 (from boto3<2.0.0,>=1.9.201->redshift-connector)\n",
      "  Downloading jmespath-1.0.1-py3-none-any.whl.metadata (7.6 kB)\n",
      "Collecting s3transfer<0.11.0,>=0.10.0 (from boto3<2.0.0,>=1.9.201->redshift-connector)\n",
      "  Downloading s3transfer-0.10.3-py3-none-any.whl.metadata (1.7 kB)\n",
      "Requirement already satisfied: python-dateutil<3.0.0,>=2.1 in /opt/conda/lib/python3.11/site-packages (from botocore<2.0.0,>=1.12.201->redshift-connector) (2.8.2)\n",
      "Requirement already satisfied: urllib3!=2.2.0,<3,>=1.25.4 in /opt/conda/lib/python3.11/site-packages (from botocore<2.0.0,>=1.12.201->redshift-connector) (2.0.7)\n",
      "Requirement already satisfied: charset-normalizer<4,>=2 in /opt/conda/lib/python3.11/site-packages (from requests<3.0.0,>=2.23.0->redshift-connector) (3.3.0)\n",
      "Requirement already satisfied: idna<4,>=2.5 in /opt/conda/lib/python3.11/site-packages (from requests<3.0.0,>=2.23.0->redshift-connector) (3.4)\n",
      "Requirement already satisfied: certifi>=2017.4.17 in /opt/conda/lib/python3.11/site-packages (from requests<3.0.0,>=2.23.0->redshift-connector) (2023.7.22)\n",
      "Collecting asn1crypto>=1.5.1 (from scramp<1.5.0,>=1.2.0->redshift-connector)\n",
      "  Downloading asn1crypto-1.5.1-py2.py3-none-any.whl.metadata (13 kB)\n",
      "Requirement already satisfied: six>=1.5 in /opt/conda/lib/python3.11/site-packages (from python-dateutil<3.0.0,>=2.1->botocore<2.0.0,>=1.12.201->redshift-connector) (1.16.0)\n",
      "Downloading redshift_connector-2.1.3-py3-none-any.whl (129 kB)\n",
      "\u001b[2K   \u001b[90m━━━━━━━━━━━━━━━━━━━━━━━━━━━━━━━━━━━━━━━━\u001b[0m \u001b[32m130.0/130.0 kB\u001b[0m \u001b[31m5.0 MB/s\u001b[0m eta \u001b[36m0:00:00\u001b[0m\n",
      "\u001b[?25hDownloading boto3-1.35.39-py3-none-any.whl (139 kB)\n",
      "\u001b[2K   \u001b[90m━━━━━━━━━━━━━━━━━━━━━━━━━━━━━━━━━━━━━━━━\u001b[0m \u001b[32m139.1/139.1 kB\u001b[0m \u001b[31m19.1 MB/s\u001b[0m eta \u001b[36m0:00:00\u001b[0m\n",
      "\u001b[?25hDownloading botocore-1.35.39-py3-none-any.whl (12.6 MB)\n",
      "\u001b[2K   \u001b[90m━━━━━━━━━━━━━━━━━━━━━━━━━━━━━━━━━━━━━━━━\u001b[0m \u001b[32m12.6/12.6 MB\u001b[0m \u001b[31m97.0 MB/s\u001b[0m eta \u001b[36m0:00:00\u001b[0ma \u001b[36m0:00:01\u001b[0m\n",
      "\u001b[?25hDownloading lxml-5.3.0-cp311-cp311-manylinux_2_28_x86_64.whl (5.0 MB)\n",
      "\u001b[2K   \u001b[90m━━━━━━━━━━━━━━━━━━━━━━━━━━━━━━━━━━━━━━━━\u001b[0m \u001b[32m5.0/5.0 MB\u001b[0m \u001b[31m99.1 MB/s\u001b[0m eta \u001b[36m0:00:00\u001b[0mta \u001b[36m0:00:01\u001b[0m\n",
      "\u001b[?25hDownloading scramp-1.4.5-py3-none-any.whl (12 kB)\n",
      "Downloading asn1crypto-1.5.1-py2.py3-none-any.whl (105 kB)\n",
      "\u001b[2K   \u001b[90m━━━━━━━━━━━━━━━━━━━━━━━━━━━━━━━━━━━━━━━━\u001b[0m \u001b[32m105.0/105.0 kB\u001b[0m \u001b[31m20.5 MB/s\u001b[0m eta \u001b[36m0:00:00\u001b[0m\n",
      "\u001b[?25hDownloading jmespath-1.0.1-py3-none-any.whl (20 kB)\n",
      "Downloading s3transfer-0.10.3-py3-none-any.whl (82 kB)\n",
      "\u001b[2K   \u001b[90m━━━━━━━━━━━━━━━━━━━━━━━━━━━━━━━━━━━━━━━━\u001b[0m \u001b[32m82.6/82.6 kB\u001b[0m \u001b[31m13.2 MB/s\u001b[0m eta \u001b[36m0:00:00\u001b[0m\n",
      "\u001b[?25hInstalling collected packages: asn1crypto, scramp, lxml, jmespath, botocore, s3transfer, boto3, redshift-connector\n",
      "Successfully installed asn1crypto-1.5.1 boto3-1.35.39 botocore-1.35.39 jmespath-1.0.1 lxml-5.3.0 redshift-connector-2.1.3 s3transfer-0.10.3 scramp-1.4.5\n",
      "Note: you may need to restart the kernel to use updated packages.\n"
     ]
    }
   ],
   "source": [
    "pip install redshift-connector"
   ]
  },
  {
   "cell_type": "code",
   "execution_count": 2,
   "id": "a4146fbf-9a79-4fc4-8839-754e0f2e8976",
   "metadata": {},
   "outputs": [
    {
     "name": "stdout",
     "output_type": "stream",
     "text": [
      "Collecting argparse\n",
      "  Downloading argparse-1.4.0-py2.py3-none-any.whl.metadata (2.8 kB)\n",
      "Downloading argparse-1.4.0-py2.py3-none-any.whl (23 kB)\n",
      "Installing collected packages: argparse\n",
      "Successfully installed argparse-1.4.0\n",
      "Note: you may need to restart the kernel to use updated packages.\n"
     ]
    }
   ],
   "source": [
    "pip install argparse"
   ]
  },
  {
   "cell_type": "markdown",
   "id": "6a37dd3c-bbc5-4bd3-a3d9-dffa6a1698c9",
   "metadata": {},
   "source": [
    "### Import all dependencies are needed"
   ]
  },
  {
   "cell_type": "code",
   "execution_count": 7,
   "id": "56a937d1-8b42-47ab-a541-d13862766a1f",
   "metadata": {},
   "outputs": [],
   "source": [
    "import csv\n",
    "from zipfile import ZipFile, ZipInfo\n",
    "from io import BytesIO, StringIO\n",
    "from typing import IO, List\n",
    "from datetime import datetime\n",
    "from sys import exit, stdout\n",
    "from redshift_connector import connect, Connection\n",
    "import os\n",
    "import argparse"
   ]
  },
  {
   "cell_type": "code",
   "execution_count": 8,
   "id": "1b3022b7-c9fc-4fb3-a817-1e6293a26d0d",
   "metadata": {},
   "outputs": [],
   "source": [
    "def redshift_open_connection_by_dict(dict_secret: dict, database: str = None) -> Connection:\n",
    "    print(f'Opening connection by secret dict')\n",
    "\n",
    "    if database is None:\n",
    "        database = dict_secret['dbname']\n",
    "\n",
    "    return connect(\n",
    "        host=dict_secret['hostname'],\n",
    "        database=database,\n",
    "        user=dict_secret['user'],\n",
    "        password=dict_secret['password'],\n",
    "        port=dict_secret['port']\n",
    "    )"
   ]
  },
  {
   "cell_type": "code",
   "execution_count": 9,
   "id": "6d4c23a3-eb2f-434d-9d9e-42a5644c275a",
   "metadata": {},
   "outputs": [],
   "source": [
    "# Function to save data in chunks to CSV\n",
    "def redshift_get_rows_and_save_csv_by_chunks(dict_secret: dict, str_query: str, save_path: str, delimiter: str = '|', quoting: int = csv.QUOTE_NONNUMERIC, lineterminator: str = '\\r\\n', upper_header: bool = True, batch_size: int = 1000):\n",
    "    conn = redshift_open_connection_by_dict(dict_secret)\n",
    "    conn.autocommit = False\n",
    "    cur = conn.cursor()\n",
    "\n",
    "    print('Executing query...')\n",
    "    cur.execute(str_query)\n",
    "    cols = [a[0] for a in cur.description]\n",
    "\n",
    "    # Ensure the directory exists\n",
    "    os.makedirs(os.path.dirname(save_path), exist_ok=True)\n",
    "\n",
    "    with open(save_path, mode='w', newline='', encoding='utf-8') as csv_file:\n",
    "        writer = csv.writer(csv_file, delimiter=delimiter, quotechar='\"', quoting=quoting, lineterminator=lineterminator)\n",
    "\n",
    "        if upper_header:\n",
    "            cols = [k.upper() for k in cols]\n",
    "            \n",
    "        # Write header\n",
    "        writer.writerow(cols)\n",
    "        idx = 1\n",
    "        while True:\n",
    "            print(f'Running idx batch_size: {idx}')\n",
    "            idx += 1\n",
    "            rows = cur.fetchmany(batch_size)\n",
    "            if not rows:\n",
    "                break\n",
    "            writer.writerows(rows)\n",
    "\n",
    "    print(f\"Data saved to CSV at: {save_path}\")\n",
    "\n",
    "    cur.close()\n",
    "    conn.close()"
   ]
  },
  {
   "cell_type": "markdown",
   "id": "c723c0d8-5398-4e0a-a330-b90f04ce1544",
   "metadata": {},
   "source": [
    "## Set your credencials and root path to store files"
   ]
  },
  {
   "cell_type": "code",
   "execution_count": 10,
   "id": "f52b8b5b-3874-4300-a72f-4a5966040019",
   "metadata": {},
   "outputs": [],
   "source": [
    "dict_secret = {\n",
    "    \"dbname\": \"datalake_dw\",\n",
    "    \"port\": 5439,\n",
    "    \"hostname\": \"asgard-redshift-production.cmqegk5gj3mi.sa-east-1.redshift.amazonaws.com\",\n",
    "    \"user\": \"herculano_cunha\",\n",
    "    \"password\": \"your secret password\"\n",
    "}\n",
    "str_path_save = \"/home/jovyan/work/files\"\n"
   ]
  },
  {
   "cell_type": "code",
   "execution_count": 19,
   "id": "d9c3ade2-3f58-495d-bcbf-67c82f7b4910",
   "metadata": {},
   "outputs": [],
   "source": [
    "list_of_querys = [\n",
    "    {'query': \"select * from credit_portfolio.metrica limit 100000\", 'filename': 'metrica.csv'},\n",
    "    {'query': \"select * from credit_portfolio.contrato limit 100000\", 'filename': 'contrato.csv'}\n",
    "]"
   ]
  },
  {
   "cell_type": "code",
   "execution_count": 18,
   "id": "a9d29090-8a91-413c-84d6-170e4e29184f",
   "metadata": {},
   "outputs": [
    {
     "ename": "NameError",
     "evalue": "name 'list_of_querys' is not defined",
     "output_type": "error",
     "traceback": [
      "\u001b[0;31m---------------------------------------------------------------------------\u001b[0m",
      "\u001b[0;31mNameError\u001b[0m                                 Traceback (most recent call last)",
      "Cell \u001b[0;32mIn[18], line 1\u001b[0m\n\u001b[0;32m----> 1\u001b[0m \u001b[38;5;28;01mfor\u001b[39;00m dict_query \u001b[38;5;129;01min\u001b[39;00m \u001b[43mlist_of_querys\u001b[49m:\n\u001b[1;32m      2\u001b[0m     \u001b[38;5;28mprint\u001b[39m(\u001b[38;5;124mf\u001b[39m\u001b[38;5;124m\"\u001b[39m\u001b[38;5;124mSelecting rows on Redshift for query: \u001b[39m\u001b[38;5;132;01m{\u001b[39;00mdict_query\u001b[38;5;241m.\u001b[39mget(\u001b[38;5;124m'\u001b[39m\u001b[38;5;124mquery\u001b[39m\u001b[38;5;124m'\u001b[39m)\u001b[38;5;132;01m}\u001b[39;00m\u001b[38;5;124m\"\u001b[39m)\n\u001b[1;32m      3\u001b[0m     save_path \u001b[38;5;241m=\u001b[39m \u001b[38;5;124mf\u001b[39m\u001b[38;5;124m\"\u001b[39m\u001b[38;5;132;01m{\u001b[39;00mstr_path_save\u001b[38;5;132;01m}\u001b[39;00m\u001b[38;5;124m/\u001b[39m\u001b[38;5;132;01m{\u001b[39;00mdict_query\u001b[38;5;241m.\u001b[39mget(\u001b[38;5;124m'\u001b[39m\u001b[38;5;124mfilename\u001b[39m\u001b[38;5;124m'\u001b[39m)\u001b[38;5;132;01m}\u001b[39;00m\u001b[38;5;124m\"\u001b[39m\n",
      "\u001b[0;31mNameError\u001b[0m: name 'list_of_querys' is not defined"
     ]
    }
   ],
   "source": [
    "for dict_query in list_of_querys:\n",
    "    print(f\"Selecting rows on Redshift for query: {dict_query.get('query')}\")\n",
    "    save_path = f\"{str_path_save}/{dict_query.get('filename')}\"\n",
    "    redshift_get_rows_and_save_csv_by_chunks(dict_secret=dict_secret, str_query=dict_query.get('query'), save_path=save_path, delimiter= '|', quoting=csv.QUOTE_NONE)\n",
    "    print(f\"{save_path} - saved\")\n",
    "    print()\n",
    "    print('------------------------')\n",
    "    print()"
   ]
  }
 ],
 "metadata": {
  "kernelspec": {
   "display_name": "Python 3 (ipykernel)",
   "language": "python",
   "name": "python3"
  },
  "language_info": {
   "codemirror_mode": {
    "name": "ipython",
    "version": 3
   },
   "file_extension": ".py",
   "mimetype": "text/x-python",
   "name": "python",
   "nbconvert_exporter": "python",
   "pygments_lexer": "ipython3",
   "version": "3.11.6"
  }
 },
 "nbformat": 4,
 "nbformat_minor": 5
}
